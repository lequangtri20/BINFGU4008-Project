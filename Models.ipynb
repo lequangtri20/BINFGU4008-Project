{
 "cells": [
  {
   "cell_type": "code",
   "execution_count": null,
   "metadata": {
    "id": "bARlBq_MF4VT"
   },
   "outputs": [],
   "source": [
    "import torch\n",
    "import torch.nn as nn"
   ]
  },
  {
   "cell_type": "code",
   "execution_count": null,
   "metadata": {
    "id": "sfpdMy-AhMM2"
   },
   "outputs": [],
   "source": [
    "class BaseModel(nn.Module):\n",
    "\n",
    "  def __init__(self, device):\n",
    "    # This is the base model used by all architectures in the projects\n",
    "    \n",
    "    super(BaseModel, self).__init__()\n",
    "    self.device = device\n",
    "\n",
    "  def forward(self, X):\n",
    "\n",
    "    return None\n",
    "\n",
    "  def train_model(self, criterion, optimizer, dataloader):\n",
    "    # Main training loop for a single epoch, called from BaseTrainer class\n",
    "    self.train()\n",
    "\n",
    "    all_labels = torch.empty(0).to(self.device)\n",
    "    all_preds = torch.empty(0).to(self.device)\n",
    "\n",
    "    running_loss = 0.0\n",
    "    \n",
    "    # Looping through training dataloader\n",
    "    for i, instance in enumerate(dataloader):\n",
    "\n",
    "      image_input, tab_input, labels = instance[0].to(torch.float32).to(self.device), instance[1].to(torch.float32).to(self.device).reshape(-1, 1), instance[2].to(torch.float32).to(self.device)\n",
    "\n",
    "      optimizer.zero_grad()\n",
    "\n",
    "      outputs = self(image_input, tab_input).to(torch.float32)\n",
    "\n",
    "      loss = criterion(outputs.view(-1, 1), labels.view(-1, 1))\n",
    "      loss.backward()\n",
    "\n",
    "      optimizer.step()\n",
    "\n",
    "      running_loss += loss.item()\n",
    "\n",
    "      all_labels = torch.cat((all_labels, labels), dim = 0)\n",
    "      all_preds = torch.cat((all_preds, outputs), dim = 0)\n",
    "\n",
    "      if (i + 1) % 10 == 0:\n",
    "        print(f'Batch {i + 1} Loss = {loss}')\n",
    "\n",
    "    return all_labels.detach().cpu().numpy(), all_preds.detach().cpu().numpy(), running_loss / len(dataloader)\n",
    "\n",
    "  def evaluate_model(self, criterion, dataloader):\n",
    "    # Evaluate with validation dataloader, called from BaseTrainer class\n",
    "    self.eval()\n",
    "\n",
    "    all_labels = torch.empty(0).to(device)\n",
    "    all_preds = torch.empty(0).to(device)\n",
    "\n",
    "    running_loss = 0.0\n",
    "\n",
    "    with torch.no_grad():\n",
    "\n",
    "      for i, instance in enumerate(dataloader):\n",
    "\n",
    "        image_input, tab_input, labels = instance[0].to(torch.float32).to(device), instance[1].to(torch.float32).to(device).reshape(-1, 1), instance[2].to(torch.float32).to(device)\n",
    "\n",
    "        outputs = self(image_input, tab_input).to(torch.float32).view(-1)\n",
    "\n",
    "        loss = criterion(outputs, labels.view(-1))\n",
    "        running_loss += loss.item()\n",
    "\n",
    "        all_labels = torch.cat((all_labels, labels), dim = 0)\n",
    "        all_preds = torch.cat((all_preds, outputs), dim = 0)\n",
    "\n",
    "    return all_labels.cpu().numpy(), all_preds.cpu().numpy(), running_loss / len(dataloader)"
   ]
  }
 ],
 "metadata": {
  "colab": {
   "authorship_tag": "ABX9TyNEcLkf/h7BPpnigmOpGJOk",
   "provenance": []
  },
  "kernelspec": {
   "display_name": "Python 3 (ipykernel)",
   "language": "python",
   "name": "python3"
  },
  "language_info": {
   "codemirror_mode": {
    "name": "ipython",
    "version": 3
   },
   "file_extension": ".py",
   "mimetype": "text/x-python",
   "name": "python",
   "nbconvert_exporter": "python",
   "pygments_lexer": "ipython3",
   "version": "3.10.10"
  }
 },
 "nbformat": 4,
 "nbformat_minor": 1
}
