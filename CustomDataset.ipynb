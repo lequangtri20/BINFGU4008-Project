{
 "cells": [
  {
   "cell_type": "code",
   "execution_count": null,
   "metadata": {
    "id": "qWnrriYOFsMd"
   },
   "outputs": [],
   "source": [
    "from PIL import Image\n",
    "from torch.utils.data import Dataset, DataLoader"
   ]
  },
  {
   "cell_type": "code",
   "execution_count": null,
   "metadata": {
    "id": "BfrijJnhfqVK"
   },
   "outputs": [],
   "source": [
    "# create custom dataset class\n",
    "class CustomDataset(Dataset):\n",
    "\n",
    "  def __init__(self, full_path, image_names, labels, tabular_data = None, transforms = None):\n",
    "    \n",
    "    # get labels, image path, image transformation and gender information\n",
    "    self.labels = labels\n",
    "    self.image_paths = full_path + image_names + '.png'\n",
    "    self.transforms = transforms\n",
    "    self.tabular_data = tabular_data\n",
    "\n",
    "  def __len__(self):\n",
    "    \n",
    "    # get dataset size\n",
    "    return len(self.image_paths)\n",
    "\n",
    "  def __getitem__(self, idx):\n",
    "    # get image itemm\n",
    "    \n",
    "    img_path = self.image_paths.iloc[idx]\n",
    "    image = Image.open(img_path)\n",
    "\n",
    "    label = self.labels.iloc[idx]\n",
    "\n",
    "    if self.transforms:\n",
    "      for trans in self.transforms:\n",
    "        image = trans(image)\n",
    "\n",
    "    if self.tabular_data is not None:\n",
    "      tab = self.tabular_data.iloc[idx]\n",
    "\n",
    "      return image, tab, label\n",
    "\n",
    "    return image, None, label"
   ]
  }
 ],
 "metadata": {
  "colab": {
   "authorship_tag": "ABX9TyMTqyMeMTs8udvv3MkHrR0w",
   "provenance": []
  },
  "kernelspec": {
   "display_name": "Python 3 (ipykernel)",
   "language": "python",
   "name": "python3"
  },
  "language_info": {
   "codemirror_mode": {
    "name": "ipython",
    "version": 3
   },
   "file_extension": ".py",
   "mimetype": "text/x-python",
   "name": "python",
   "nbconvert_exporter": "python",
   "pygments_lexer": "ipython3",
   "version": "3.10.10"
  }
 },
 "nbformat": 4,
 "nbformat_minor": 1
}
