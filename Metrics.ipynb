{
 "cells": [
  {
   "cell_type": "markdown",
   "metadata": {
    "id": "vd5Ns7qeNCJE"
   },
   "source": [
    "# Metrics"
   ]
  },
  {
   "cell_type": "code",
   "execution_count": null,
   "metadata": {
    "id": "q-PoxGZ7FhQz"
   },
   "outputs": [],
   "source": [
    "# load libraries\n",
    "import numpy as np\n",
    "import matplotlib.pyplot as plt\n",
    "\n",
    "from sklearn.metrics import r2_score, mean_squared_error, mean_absolute_error\n",
    "from scipy.stats import pearsonr"
   ]
  },
  {
   "cell_type": "code",
   "execution_count": null,
   "metadata": {
    "id": "GDi4u2BFacgF"
   },
   "outputs": [],
   "source": [
    "# define function to convert to numpy array\n",
    "def to_np_array(array):\n",
    "    # Keep None as it is, and convert others into Numpy array\n",
    "    if array is not None and not isinstance(array, np.ndarray):\n",
    "        array = np.array(array)\n",
    "    if array is not None:\n",
    "        array = array.squeeze()\n",
    "    return array"
   ]
  },
  {
   "cell_type": "code",
   "execution_count": null,
   "metadata": {
    "id": "D92kemXVYync"
   },
   "outputs": [],
   "source": [
    "# define baseline metric class\n",
    "class Metric:\n",
    "\n",
    "    def __init__(self, plot_name, split):\n",
    "        # save plot name and split to variables\n",
    "        self.plot_name = plot_name\n",
    "        self.split = split\n",
    "\n",
    "    def __call__(self, y_true, y_pred=None, p_pred=None, plot = False):\n",
    "        # convert to numpy arrays\n",
    "        y_true = to_np_array(y_true)\n",
    "        y_pred = to_np_array(y_pred)\n",
    "        p_pred = to_np_array(p_pred)\n",
    "        return self.forward(y_true, y_pred, p_pred, plot)\n",
    "\n",
    "    def forward(self, y_true, y_pred=None, p_pred=None, plot = False):\n",
    "        raise NotImplementedError(\"This is the base class for metrics\")"
   ]
  },
  {
   "cell_type": "code",
   "execution_count": null,
   "metadata": {
    "id": "CJQNNVAdY9TZ"
   },
   "outputs": [],
   "source": [
    "# class to calculate and plot Pearson correlation and R-squared\n",
    "class CorrAndRSquared(Metric):\n",
    "\n",
    "  def forward(self, y_true, y_pred = None, p_pred = None, plot = False):\n",
    "\n",
    "    # calculate R-squared\n",
    "    r2 = r2_score(y_true, y_pred)\n",
    "\n",
    "    # calculate Pearson and p-value\n",
    "    pearson, pvalue = pearsonr(y_true, y_pred)\n",
    "    if plot:\n",
    "      # plot true vs predicted values\n",
    "      self._plot_scatter(y_true, y_pred, r2, pearson, pvalue)\n",
    "\n",
    "    return r2, (pearson, pvalue)\n",
    "\n",
    "  def _plot_scatter(self, y_true, y_pred, r2, pearson, pvalue):\n",
    "\n",
    "    # plot true vs predicted values\n",
    "    plt.rcParams['axes.labelweight'] = 'bold'\n",
    "    plt.rcParams['axes.titleweight'] = 'bold'\n",
    "\n",
    "    plt.figure(figsize = (8, 6))\n",
    "\n",
    "    plt.scatter(y_pred, y_true, color = 'black', label = 'Actual Performance')\n",
    "    plt.plot(y_true, y_true, color = 'red', linestyle = '--', label = 'Theoretical Perfect Performance')\n",
    "\n",
    "    plt.xlabel('Predicted Value', size = 12)\n",
    "    plt.ylabel('True Value', size = 12)\n",
    "    plt.title('True Values vs Predicted Values', size = 13)\n",
    "\n",
    "    plt.text(110, 15, f'R-Squared = {r2:.2f}', fontweight = 'bold')\n",
    "    if pvalue < 0.001:\n",
    "      plt.text(110, 5, f'Pearson Correlation = {pearson:.2f} (p < 0.001)', fontweight = 'bold')\n",
    "    else:\n",
    "      plt.text(110, 5, f'Pearson Correlation = {pearson:.2f} (p = {pvalue:.4f})', fontweight = 'bold')\n",
    "\n",
    "    plt.legend(loc = 'upper left')\n",
    "\n",
    "    plt.show()\n",
    "\n",
    "    # save figure\n",
    "    plt.savefig('/content/drive/MyDrive/BINF_4008_Final_Project/Plots/' + self.plot_name + '_' + self.split + '_r2.png')"
   ]
  },
  {
   "cell_type": "code",
   "execution_count": null,
   "metadata": {
    "id": "pdvDp-9Kc9vZ"
   },
   "outputs": [],
   "source": [
    "# class to calculate MSE\n",
    "class MSE(Metric):\n",
    "\n",
    "  def forward(self, y_true, y_pred = None, p_pred = None, plot = False):\n",
    "\n",
    "    # calculate MSE\n",
    "    mse = mean_squared_error(y_true, y_pred)\n",
    "\n",
    "    return mse"
   ]
  },
  {
   "cell_type": "code",
   "execution_count": null,
   "metadata": {
    "id": "-JbfyKfoFq6o"
   },
   "outputs": [],
   "source": [
    "# class to calculate MAE\n",
    "class MAE(Metric):\n",
    "\n",
    "  def forward(self, y_true, y_pred = None, p_pred = None, plot = False):\n",
    "\n",
    "    # calculate MAE\n",
    "    mae = mean_absolute_error(y_true, y_pred)\n",
    "\n",
    "    return mae"
   ]
  },
  {
   "cell_type": "code",
   "execution_count": null,
   "metadata": {
    "id": "5Ia0439mF_1u"
   },
   "outputs": [],
   "source": [
    "# class to calculate MAPE\n",
    "class MAPE(Metric):\n",
    "\n",
    "  def forward(self, y_true, y_pred = None, p_pred = None, plot = False):\n",
    "\n",
    "    # calculate MAPE\n",
    "    mape = np.mean(np.abs((y_true - y_pred) / y_true)) * 100\n",
    "\n",
    "    return mape"
   ]
  },
  {
   "cell_type": "code",
   "execution_count": null,
   "metadata": {
    "id": "om4GD8ZqeHkM"
   },
   "outputs": [],
   "source": [
    "# class to plot the train and validation loss\n",
    "class PlotLoss:\n",
    "\n",
    "  def __init__(self, plot_name):\n",
    "\n",
    "    # save plot name as a variable\n",
    "    self.plot_name = plot_name\n",
    "\n",
    "  def __call__(self, train_losses, val_losses):\n",
    "\n",
    "    # convert train losses and val losses to numpy arrays\n",
    "    train_losses = to_np_array(train_losses)\n",
    "    val_losses = to_np_array(val_losses)\n",
    "\n",
    "    # run the plotting code\n",
    "    self.forward(train_losses, val_losses, self.plot_name)\n",
    "\n",
    "  def forward(self, train_losses, val_losses, plot_name):\n",
    "\n",
    "    # plot the train losses and val losses over epochs\n",
    "    plt.figure(figsize = (6, 4))\n",
    "\n",
    "    plt.plot(range(len(train_losses)), train_losses, lw = 2, color = 'navy', label = 'Train Loss')\n",
    "\n",
    "    plt.plot(range(len(val_losses)), val_losses, lw = 2, color = 'darkorange', label = 'Val Loss')\n",
    "\n",
    "    plt.title(f'Loss Over Epochs')\n",
    "    plt.xlabel('Epoch')\n",
    "    plt.ylabel('Loss')\n",
    "\n",
    "    plt.legend(loc = 'lower right')\n",
    "\n",
    "    plt.xticks(ticks = range(len(train_losses)), labels = range(1, len(train_losses) + 1))\n",
    "\n",
    "    plt.show()\n",
    "\n",
    "    # save figure\n",
    "    plt.savefig('/content/drive/MyDrive/BINF_4008_Final_Project/Plots/' + plot_name + '_loss.png')"
   ]
  },
  {
   "cell_type": "code",
   "execution_count": null,
   "metadata": {
    "id": "nXqHkmdgrQtL"
   },
   "outputs": [],
   "source": [
    "# define class for plotting the metrics across epochs\n",
    "class PlotMetrics:\n",
    "\n",
    "  def __init__(self, plot_name):\n",
    "    # save plot name as a variable\n",
    "    self.plot_name = plot_name\n",
    "\n",
    "  def __call__(self, train_metric, val_metric):\n",
    "\n",
    "    # convert train metrics and val metrics to numpy arrays\n",
    "    train_metric = to_np_array(train_metric)\n",
    "    val_metric = to_np_array(val_metric)\n",
    "\n",
    "    # run the code to make the plots\n",
    "    self.forward(train_metric, val_metric, self.plot_name)\n",
    "\n",
    "  def forward(self, train_metric, val_metric, plot_name):\n",
    "    print('This is the base for plotting.')"
   ]
  },
  {
   "cell_type": "code",
   "execution_count": null,
   "metadata": {
    "id": "eLDI7TFir9O_"
   },
   "outputs": [],
   "source": [
    "# class to plot R-squared over epochs\n",
    "class PlotR2(PlotMetrics):\n",
    "\n",
    "  def forward(self, train_metric, val_metric, plot_name):\n",
    "\n",
    "    # plot R-squared over epochs for train and validation\n",
    "    plt.figure(figsize = (6, 4))\n",
    "\n",
    "    plt.plot(range(len(train_metric)), train_metric, lw = 2, color = 'navy', label = 'Train R2')\n",
    "\n",
    "    plt.plot(range(len(val_metric)), val_metric, lw = 2, color = 'darkorange', label = 'Val R2')\n",
    "\n",
    "    plt.title(f'R2 Over Epochs')\n",
    "    plt.xlabel('Epoch')\n",
    "    plt.ylabel('R2')\n",
    "\n",
    "    plt.legend(loc = 'lower right')\n",
    "\n",
    "    plt.xticks(ticks = range(len(train_metric)), labels = range(1, len(train_metric) + 1))\n",
    "\n",
    "    plt.show()\n",
    "\n",
    "    # save figure\n",
    "    plt.savefig('/content/drive/MyDrive/BINF_4008_Final_Project/Plots/' + self.plot_name + '_R2_over_epochs.png')"
   ]
  },
  {
   "cell_type": "code",
   "execution_count": null,
   "metadata": {
    "id": "JUezGuHfYx_g"
   },
   "outputs": [],
   "source": [
    "# class to plot Pearson correlation coefficient over epochs\n",
    "class PlotPearson(PlotMetrics):\n",
    "\n",
    "  def forward(self, train_metric, val_metric, plot_name):\n",
    "\n",
    "    # plot train and val pearson correlation coefficient over epochs\n",
    "    plt.figure(figsize = (6, 4))\n",
    "\n",
    "    plt.plot(range(len(train_metric)), train_metric, lw = 2, color = 'navy', label = 'Train Pearson')\n",
    "\n",
    "    plt.plot(range(len(val_metric)), val_metric, lw = 2, color = 'darkorange', label = 'Val Pearson')\n",
    "\n",
    "    plt.title(f'Pearson Coefficient Over Epochs')\n",
    "    plt.xlabel('Epoch')\n",
    "    plt.ylabel('Pearson Coefficient')\n",
    "\n",
    "    plt.legend(loc = 'lower right')\n",
    "\n",
    "    plt.xticks(ticks = range(len(train_metric)), labels = range(1, len(train_metric) + 1))\n",
    "\n",
    "    plt.show()\n",
    "\n",
    "    # save fig\n",
    "    plt.savefig('/content/drive/MyDrive/BINF_4008_Final_Project/Plots/' + self.plot_name + '_pearson_over_epochs.png')"
   ]
  },
  {
   "cell_type": "code",
   "execution_count": null,
   "metadata": {
    "id": "FMI103lusrNr"
   },
   "outputs": [],
   "source": [
    "# class to plot MSE over epochs\n",
    "class PlotMSE(PlotMetrics):\n",
    "\n",
    "  def forward(self, train_metric, val_metric, plot_name):\n",
    "\n",
    "    # plot MSE over epochs for train and val sets\n",
    "    plt.figure(figsize = (6, 4))\n",
    "\n",
    "    plt.plot(range(len(train_metric)), train_metric, lw = 2, color = 'navy', label = 'Train MSE')\n",
    "\n",
    "    plt.plot(range(len(val_metric)), val_metric, lw = 2, color = 'darkorange', label = 'Val MSE')\n",
    "\n",
    "    plt.title(f'MSE Over Epochs')\n",
    "    plt.xlabel('Epoch')\n",
    "    plt.ylabel('MSE')\n",
    "\n",
    "    plt.legend(loc = 'lower right')\n",
    "\n",
    "    plt.xticks(ticks = range(len(train_metric)), labels = range(1, len(train_metric) + 1))\n",
    "\n",
    "    plt.show()\n",
    "\n",
    "    # save fig\n",
    "    plt.savefig('/content/drive/MyDrive/BINF_4008_Final_Project/Plots/' + self.plot_name + '_MSE_over_epochs.png')"
   ]
  },
  {
   "cell_type": "code",
   "execution_count": null,
   "metadata": {
    "id": "oAQ03H6VGQcx"
   },
   "outputs": [],
   "source": [
    "# class for plotting MAE over epochs\n",
    "class PlotMAE(PlotMetrics):\n",
    "\n",
    "  def forward(self, train_metric, val_metric, plot_name):\n",
    "\n",
    "    # plot MAE for train and val over epochs\n",
    "    plt.figure(figsize = (6, 4))\n",
    "\n",
    "    plt.plot(range(len(train_metric)), train_metric, lw = 2, color = 'navy', label = 'Train MAE')\n",
    "\n",
    "    plt.plot(range(len(val_metric)), val_metric, lw = 2, color = 'darkorange', label = 'Val MAE')\n",
    "\n",
    "    plt.title(f'MAE Over Epochs')\n",
    "    plt.xlabel('Epoch')\n",
    "    plt.ylabel('MAE')\n",
    "\n",
    "    plt.legend(loc = 'lower right')\n",
    "\n",
    "    plt.xticks(ticks = range(len(train_metric)), labels = range(1, len(train_metric) + 1))\n",
    "\n",
    "    plt.show()\n",
    "\n",
    "    # save fig\n",
    "    plt.savefig('/content/drive/MyDrive/BINF_4008_Final_Project/Plots/' + self.plot_name + '_MAE_over_epochs.png')"
   ]
  },
  {
   "cell_type": "code",
   "execution_count": null,
   "metadata": {
    "id": "WS1UKP2MGb_1"
   },
   "outputs": [],
   "source": [
    "# class to plot MAPE over epochs\n",
    "class PlotMAPE(PlotMetrics):\n",
    "\n",
    "  def forward(self, train_metric, val_metric, plot_name):\n",
    "\n",
    "    # plot MAPE over epochs for train and val sets\n",
    "    plt.figure(figsize = (6, 4))\n",
    "\n",
    "    plt.plot(range(len(train_metric)), train_metric, lw = 2, color = 'navy', label = 'Train MAPE')\n",
    "\n",
    "    plt.plot(range(len(val_metric)), val_metric, lw = 2, color = 'darkorange', label = 'Val MAPE')\n",
    "\n",
    "    plt.title(f'MAPE Over Epochs')\n",
    "    plt.xlabel('Epoch')\n",
    "    plt.ylabel('MAPE')\n",
    "\n",
    "    plt.legend(loc = 'lower right')\n",
    "\n",
    "    plt.xticks(ticks = range(len(train_metric)), labels = range(1, len(train_metric) + 1))\n",
    "\n",
    "    plt.show()\n",
    "\n",
    "    # save fig\n",
    "    plt.savefig('/content/drive/MyDrive/BINF_4008_Final_Project/Plots/' + self.plot_name + '_MAPE_over_epochs.png')"
   ]
  }
 ],
 "metadata": {
  "colab": {
   "authorship_tag": "ABX9TyPjg98RPVN5dk1Oo3M2BEGd",
   "provenance": []
  },
  "kernelspec": {
   "display_name": "Python 3 (ipykernel)",
   "language": "python",
   "name": "python3"
  },
  "language_info": {
   "codemirror_mode": {
    "name": "ipython",
    "version": 3
   },
   "file_extension": ".py",
   "mimetype": "text/x-python",
   "name": "python",
   "nbconvert_exporter": "python",
   "pygments_lexer": "ipython3",
   "version": "3.10.10"
  }
 },
 "nbformat": 4,
 "nbformat_minor": 1
}
