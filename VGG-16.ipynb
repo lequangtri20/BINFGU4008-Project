{
 "cells": [
  {
   "cell_type": "markdown",
   "metadata": {
    "id": "E9VeGKqFAjDy"
   },
   "source": [
    "# VGG-16"
   ]
  },
  {
   "cell_type": "markdown",
   "metadata": {
    "id": "XjUdL22EAmtU"
   },
   "source": [
    "## Setup"
   ]
  },
  {
   "cell_type": "code",
   "execution_count": null,
   "metadata": {
    "colab": {
     "base_uri": "https://localhost:8080/"
    },
    "executionInfo": {
     "elapsed": 3185,
     "status": "ok",
     "timestamp": 1701964704196,
     "user": {
      "displayName": "Ryan McNamara",
      "userId": "02512301642229811528"
     },
     "user_tz": 300
    },
    "id": "VgiR0QRKnoZx",
    "outputId": "5bbdd746-2804-48d9-ec2c-65cfa4d485e2"
   },
   "outputs": [],
   "source": [
    "# set up Google Drive\n",
    "from google.colab import drive\n",
    "drive.mount('/content/drive')"
   ]
  },
  {
   "cell_type": "code",
   "execution_count": null,
   "metadata": {
    "executionInfo": {
     "elapsed": 5060,
     "status": "ok",
     "timestamp": 1701964709251,
     "user": {
      "displayName": "Ryan McNamara",
      "userId": "02512301642229811528"
     },
     "user_tz": 300
    },
    "id": "J__FCpzvAb9d"
   },
   "outputs": [],
   "source": [
    "# run required notebooks to import functions\n",
    "%run /content/drive/MyDrive/BINF_4008_Final_Project/Scripts/Metrics.ipynb\n",
    "%run /content/drive/MyDrive/BINF_4008_Final_Project/Scripts/Models.ipynb\n",
    "%run /content/drive/MyDrive/BINF_4008_Final_Project/Scripts/Trainer.ipynb\n",
    "%run /content/drive/MyDrive/BINF_4008_Final_Project/Scripts/CustomDataset.ipynb"
   ]
  },
  {
   "cell_type": "code",
   "execution_count": null,
   "metadata": {
    "executionInfo": {
     "elapsed": 3144,
     "status": "ok",
     "timestamp": 1701964712389,
     "user": {
      "displayName": "Ryan McNamara",
      "userId": "02512301642229811528"
     },
     "user_tz": 300
    },
    "id": "EUepRoVKAv9Z"
   },
   "outputs": [],
   "source": [
    "# import libraries\n",
    "import pandas as pd\n",
    "import numpy as np\n",
    "\n",
    "import os\n",
    "\n",
    "import pickle\n",
    "\n",
    "import matplotlib.pyplot as plt\n",
    "%matplotlib notebook\n",
    "\n",
    "import torch\n",
    "import torch.nn as nn\n",
    "import torch.optim as optim\n",
    "import torch.nn.functional as F\n",
    "import torchvision.transforms as transforms\n",
    "from torchvision import models\n",
    "from torchvision.models import VGG16_BN_Weights\n",
    "from torch.utils.data import Dataset, DataLoader\n",
    "\n",
    "from PIL import Image\n",
    "\n",
    "import matplotlib.pyplot as plt\n",
    "\n",
    "from sklearn.metrics import r2_score, mean_squared_error"
   ]
  },
  {
   "cell_type": "code",
   "execution_count": null,
   "metadata": {
    "executionInfo": {
     "elapsed": 9,
     "status": "ok",
     "timestamp": 1701964712390,
     "user": {
      "displayName": "Ryan McNamara",
      "userId": "02512301642229811528"
     },
     "user_tz": 300
    },
    "id": "kEOm2zHTA5PH"
   },
   "outputs": [],
   "source": [
    "# set device\n",
    "device = torch.device('cuda' if torch.cuda.is_available() else 'cpu')"
   ]
  },
  {
   "cell_type": "code",
   "execution_count": null,
   "metadata": {
    "executionInfo": {
     "elapsed": 8,
     "status": "ok",
     "timestamp": 1701964712390,
     "user": {
      "displayName": "Ryan McNamara",
      "userId": "02512301642229811528"
     },
     "user_tz": 300
    },
    "id": "H2xdLmlrA-20"
   },
   "outputs": [],
   "source": [
    "# load metadata\n",
    "metadata = pd.read_csv('/content/drive/MyDrive/BINF_4008_Final_Project/Data/metadata.csv')"
   ]
  },
  {
   "cell_type": "code",
   "execution_count": null,
   "metadata": {
    "executionInfo": {
     "elapsed": 8,
     "status": "ok",
     "timestamp": 1701964712390,
     "user": {
      "displayName": "Ryan McNamara",
      "userId": "02512301642229811528"
     },
     "user_tz": 300
    },
    "id": "t-ZKwBLZBXhZ"
   },
   "outputs": [],
   "source": [
    "# split into different sets\n",
    "train_images = metadata[metadata['split'] == 'train']['id'].astype(str)\n",
    "train_tab = metadata[metadata['split'] == 'train']['male']\n",
    "train_labels = metadata[metadata['split'] == 'train']['boneage']\n",
    "\n",
    "val_images = metadata[metadata['split'] == 'val']['id'].astype(str)\n",
    "val_tab = metadata[metadata['split'] == 'val']['male']\n",
    "val_labels = metadata[metadata['split'] == 'val']['boneage']\n",
    "\n",
    "test_images = metadata[metadata['split'] == 'test']['id'].astype(str)\n",
    "test_tab = metadata[metadata['split'] == 'test']['male']\n",
    "test_labels = metadata[metadata['split'] == 'test']['boneage']"
   ]
  },
  {
   "cell_type": "code",
   "execution_count": null,
   "metadata": {
    "executionInfo": {
     "elapsed": 9,
     "status": "ok",
     "timestamp": 1701964712391,
     "user": {
      "displayName": "Ryan McNamara",
      "userId": "02512301642229811528"
     },
     "user_tz": 300
    },
    "id": "uTfDxgAMUdz_"
   },
   "outputs": [],
   "source": [
    "# split test set into male and female cohorts\n",
    "test_metadata = metadata[metadata['split'] == 'test']\n",
    "\n",
    "test_male_metadata = test_metadata[test_metadata['male'] == 1]\n",
    "test_female_metadata = test_metadata[test_metadata['male'] == 0]\n",
    "\n",
    "test_male_images = test_male_metadata['id'].astype(str)\n",
    "test_male_tab = test_male_metadata['male']\n",
    "test_male_labels = test_male_metadata['boneage']\n",
    "\n",
    "test_female_images = test_female_metadata['id'].astype(str)\n",
    "test_female_tab = test_female_metadata['male']\n",
    "test_female_labels = test_female_metadata['boneage']"
   ]
  },
  {
   "cell_type": "code",
   "execution_count": null,
   "metadata": {
    "executionInfo": {
     "elapsed": 7,
     "status": "ok",
     "timestamp": 1701964712391,
     "user": {
      "displayName": "Ryan McNamara",
      "userId": "02512301642229811528"
     },
     "user_tz": 300
    },
    "id": "XjyHOWdwBbMm"
   },
   "outputs": [],
   "source": [
    "# define batch size and epochs\n",
    "BATCH_SIZE = 64\n",
    "EPOCHS = 7\n",
    "\n",
    "# define ImageNet mean and standard deviation\n",
    "MEAN = [0.485]\n",
    "STD = [0.229]\n",
    "\n",
    "# define transformations\n",
    "transform_1 = transforms.Compose([\n",
    "    transforms.Resize((224, 224)),\n",
    "    transforms.Grayscale(num_output_channels = 3),\n",
    "    transforms.ToTensor(),\n",
    "    transforms.Normalize(mean = MEAN * 3, std = STD * 3)\n",
    "])\n",
    "\n",
    "transform_2 = transforms.Compose([\n",
    "    transforms.RandomAffine(degrees = (0, 90), translate = (0.1, 0.1), scale = None, shear = (0, 10)),\n",
    "    transforms.RandomHorizontalFlip(0.3),\n",
    "    transforms.RandomVerticalFlip(0.3)\n",
    "])"
   ]
  },
  {
   "cell_type": "code",
   "execution_count": null,
   "metadata": {
    "executionInfo": {
     "elapsed": 7,
     "status": "ok",
     "timestamp": 1701964712391,
     "user": {
      "displayName": "Ryan McNamara",
      "userId": "02512301642229811528"
     },
     "user_tz": 300
    },
    "id": "hF-oMX6cBfIa"
   },
   "outputs": [],
   "source": [
    "# initialize datasets and dataloaders for the different splits\n",
    "train_dataset = CustomDataset('/content/drive/MyDrive/BINF_4008_Final_Project/Data/all_images/', train_images, train_labels, tabular_data = train_tab, transforms = [transform_1, transform_2])\n",
    "train_dataloader = DataLoader(train_dataset, batch_size = BATCH_SIZE, shuffle = True, num_workers = 2)\n",
    "\n",
    "val_dataset = CustomDataset('/content/drive/MyDrive/BINF_4008_Final_Project/Data/all_images/', val_images, val_labels, tabular_data = val_tab, transforms = [transform_1])\n",
    "val_dataloader = DataLoader(val_dataset, batch_size = BATCH_SIZE, shuffle = False, num_workers = 2)\n",
    "\n",
    "test_dataset = CustomDataset('/content/drive/MyDrive/BINF_4008_Final_Project/Data/all_images/', test_images, test_labels, tabular_data = test_tab, transforms = [transform_1])\n",
    "test_dataloader = DataLoader(test_dataset, batch_size = BATCH_SIZE, shuffle = False, num_workers = 2)\n",
    "\n",
    "test_male_dataset = CustomDataset('/content/drive/MyDrive/BINF_4008_Final_Project/Data/all_images/', test_male_images, test_male_labels, tabular_data = test_male_tab, transforms = [transform_1])\n",
    "test_male_dataloader = DataLoader(test_male_dataset, batch_size = BATCH_SIZE, shuffle = False, num_workers = 2)\n",
    "\n",
    "test_female_dataset = CustomDataset('/content/drive/MyDrive/BINF_4008_Final_Project/Data/all_images/', test_female_images, test_female_labels, tabular_data = test_female_tab, transforms = [transform_1])\n",
    "test_female_dataloader = DataLoader(test_female_dataset, batch_size = BATCH_SIZE, shuffle = False, num_workers = 2)"
   ]
  },
  {
   "cell_type": "markdown",
   "metadata": {
    "id": "rVZ7NNdhBiZR"
   },
   "source": [
    "## Define Model"
   ]
  },
  {
   "cell_type": "code",
   "execution_count": null,
   "metadata": {
    "executionInfo": {
     "elapsed": 7,
     "status": "ok",
     "timestamp": 1701964712392,
     "user": {
      "displayName": "Ryan McNamara",
      "userId": "02512301642229811528"
     },
     "user_tz": 300
    },
    "id": "4sTQQHzuBg8F"
   },
   "outputs": [],
   "source": [
    "class VGG16Regression(BaseModel):\n",
    "\n",
    "  def __init__(self, weights, device, tabular_data = False, tabular_hidden = None, output_hidden = None):\n",
    "\n",
    "    super(VGG16Regression, self).__init__(device)\n",
    "    \n",
    "    # initialize with random weights\n",
    "    if weights == 'random':\n",
    "      self.vgg16 = models.vgg16_bn(weights = None)\n",
    "    \n",
    "      # replace final layer with linear layer culminating in single output node\n",
    "      self.vgg16.classifier[-1] = nn.Linear(self.vgg16.classifier[-1].in_features, 1)\n",
    "      self.vgg16 = self.vgg16.apply(self.xavier_init)\n",
    "    \n",
    "    else:\n",
    "      # initialize with ImageNet weights\n",
    "      self.vgg16 = models.vgg16_bn(weights = weights)\n",
    "    \n",
    "      # replace final layer with linear layer culminating in single output node\n",
    "      self.vgg16.classifier[-1] = nn.Linear(self.vgg16.classifier[-1].in_features, 1)\n",
    "    \n",
    "    # define tabular data variable\n",
    "    self.tabular_data = tabular_data\n",
    "    \n",
    "    # if using tabular data then define tabular hidden and output hidden variables\n",
    "    if self.tabular_data:\n",
    "      self.tabular_hidden = tabular_hidden\n",
    "      self.output_hidden = output_hidden\n",
    "        \n",
    "      # create linear layer to same number of dimensions\n",
    "      self.vgg16.classifier[-1] = nn.Linear(self.vgg16.classifier[-1].in_features, self.vgg16.classifier[-1].in_features)\n",
    "      \n",
    "      # create tabular network\n",
    "      self.tabular_net = nn.Sequential(\n",
    "        nn.Linear(1, self.tabular_hidden),\n",
    "        nn.ReLU()\n",
    "      )\n",
    "      \n",
    "      # define dimension of fusion dim for image output and tabular output\n",
    "      self.fusion_dim = self.vgg16.classifier[-1].out_features + self.tabular_hidden\n",
    "        \n",
    "      # define last layers for output\n",
    "      self.output_net = nn.Sequential(\n",
    "        nn.Linear(self.fusion_dim, self.output_hidden),\n",
    "        nn.ReLU(),\n",
    "        nn.Linear(self.output_hidden, self.output_hidden),\n",
    "        nn.ReLU(),\n",
    "        nn.Linear(self.output_hidden, 1)\n",
    "      )\n",
    "      \n",
    "      # initialize added networks with xavier weights\n",
    "      self.tabular_net = self.tabular_net.apply(self.xavier_init)\n",
    "      self.output_net = self.output_net.apply(self.xavier_init)\n",
    "\n",
    "  def xavier_init(self, m):\n",
    "    \n",
    "    # function to initialize weights with Xavier\n",
    "    if isinstance(m, torch.nn.Conv2d) or isinstance(m, torch.nn.Linear):\n",
    "        nn.init.xavier_uniform_(m.weight)\n",
    "\n",
    "  def forward(self, image_input, tabular_input = None):\n",
    "    \n",
    "    # if gender is included:\n",
    "    if self.tabular_data:\n",
    "      \n",
    "      # pass image through image model\n",
    "      image_features = self.vgg16(image_input)\n",
    "      \n",
    "      # flatten the output\n",
    "      image_features = image_features.view(image_features.size(0), -1)\n",
    "    \n",
    "      # pass gender through the tabular net\n",
    "      tabular_features = self.tabular_net(tabular_input)\n",
    "    \n",
    "      # combine the two outputs\n",
    "      combined_features = torch.cat((image_features, tabular_features), dim = 1)\n",
    "    \n",
    "      # pass full representation through last network to get output\n",
    "      final_output = self.output_net(combined_features)\n",
    "\n",
    "      return final_output\n",
    "\n",
    "    else:\n",
    "        \n",
    "      # if just image data, pass the image through the image model\n",
    "      return self.vgg16(image_input)"
   ]
  },
  {
   "cell_type": "markdown",
   "metadata": {
    "id": "yk_oTlp1DQYk"
   },
   "source": [
    "## ImageNet Weight Initialization No Gender Model"
   ]
  },
  {
   "cell_type": "code",
   "execution_count": null,
   "metadata": {
    "executionInfo": {
     "elapsed": 4139,
     "status": "ok",
     "timestamp": 1701964716524,
     "user": {
      "displayName": "Ryan McNamara",
      "userId": "02512301642229811528"
     },
     "user_tz": 300
    },
    "id": "I9lhZfrPCNyY"
   },
   "outputs": [],
   "source": [
    "# initialize or load the model\n",
    "# model = VGG16Regression(weights = VGG16_BN_Weights.IMAGENET1K_V1, device = device).to(device)\n",
    "with open('/content/drive/MyDrive/BINF_4008_Final_Project/Pickles/vgg16_imagenet_no_gender_model.pkl', 'rb') as f:\n",
    " model = pickle.load(f)"
   ]
  },
  {
   "cell_type": "code",
   "execution_count": null,
   "metadata": {
    "executionInfo": {
     "elapsed": 14,
     "status": "ok",
     "timestamp": 1701964716525,
     "user": {
      "displayName": "Ryan McNamara",
      "userId": "02512301642229811528"
     },
     "user_tz": 300
    },
    "id": "_gQuqBz_CaAT"
   },
   "outputs": [],
   "source": [
    "# define criterion and optimizer\n",
    "criterion = nn.L1Loss()\n",
    "optimizer = optim.Adam(model.parameters())"
   ]
  },
  {
   "cell_type": "code",
   "execution_count": null,
   "metadata": {
    "executionInfo": {
     "elapsed": 14,
     "status": "ok",
     "timestamp": 1701964716525,
     "user": {
      "displayName": "Ryan McNamara",
      "userId": "02512301642229811528"
     },
     "user_tz": 300
    },
    "id": "iinCOEUqCdi_"
   },
   "outputs": [],
   "source": [
    "# define trainer and evaluator to train and evaluate the model\n",
    "trainer_and_evaluator = BaseTrainer(model, criterion, optimizer, train_dataloader, val_dataloader, test_dataloader, test_male_dataloader, test_female_dataloader, EPOCHS, 'vgg16_imagenet_no_gender', device)"
   ]
  },
  {
   "cell_type": "code",
   "execution_count": null,
   "metadata": {
    "executionInfo": {
     "elapsed": 14,
     "status": "ok",
     "timestamp": 1701964716525,
     "user": {
      "displayName": "Ryan McNamara",
      "userId": "02512301642229811528"
     },
     "user_tz": 300
    },
    "id": "DTNeea78EK4N"
   },
   "outputs": [],
   "source": [
    "# train and validate the model\n",
    "training_results = trainer_and_evaluator.train_and_validate()"
   ]
  },
  {
   "cell_type": "code",
   "execution_count": null,
   "metadata": {
    "executionInfo": {
     "elapsed": 11,
     "status": "ok",
     "timestamp": 1701964716525,
     "user": {
      "displayName": "Ryan McNamara",
      "userId": "02512301642229811528"
     },
     "user_tz": 300
    },
    "id": "19yLa92jEQt5"
   },
   "outputs": [],
   "source": [
    "training_results"
   ]
  },
  {
   "cell_type": "code",
   "execution_count": null,
   "metadata": {
    "colab": {
     "base_uri": "https://localhost:8080/",
     "height": 17
    },
    "executionInfo": {
     "elapsed": 92239,
     "status": "ok",
     "timestamp": 1701964808753,
     "user": {
      "displayName": "Ryan McNamara",
      "userId": "02512301642229811528"
     },
     "user_tz": 300
    },
    "id": "ynd44xQpER3E",
    "outputId": "4fb89832-5e15-42a6-ca2b-af85ca156071"
   },
   "outputs": [],
   "source": [
    "# evaluate the model on the test set using bootstrapped samples\n",
    "test_results = trainer_and_evaluator.bootstrap_test_set()"
   ]
  },
  {
   "cell_type": "code",
   "execution_count": null,
   "metadata": {
    "executionInfo": {
     "elapsed": 18,
     "status": "ok",
     "timestamp": 1701964808753,
     "user": {
      "displayName": "Ryan McNamara",
      "userId": "02512301642229811528"
     },
     "user_tz": 300
    },
    "id": "mrsHpc72Eljm"
   },
   "outputs": [],
   "source": [
    "test_results"
   ]
  },
  {
   "cell_type": "markdown",
   "metadata": {
    "id": "wj_cISe6jS0M"
   },
   "source": [
    "## Xavier Weight Initialization No Gender Model"
   ]
  },
  {
   "cell_type": "code",
   "execution_count": null,
   "metadata": {
    "executionInfo": {
     "elapsed": 9862,
     "status": "ok",
     "timestamp": 1701964818600,
     "user": {
      "displayName": "Ryan McNamara",
      "userId": "02512301642229811528"
     },
     "user_tz": 300
    },
    "id": "aglYJ-3UoX3x"
   },
   "outputs": [],
   "source": [
    "# define or initialize the model\n",
    "# model = VGG16Regression(weights = 'random', device = device).to(device)\n",
    "with open('/content/drive/MyDrive/BINF_4008_Final_Project/Pickles/vgg16_xavier_no_gender_model.pkl', 'rb') as f:\n",
    " model = pickle.load(f)"
   ]
  },
  {
   "cell_type": "code",
   "execution_count": null,
   "metadata": {
    "executionInfo": {
     "elapsed": 22,
     "status": "ok",
     "timestamp": 1701964818601,
     "user": {
      "displayName": "Ryan McNamara",
      "userId": "02512301642229811528"
     },
     "user_tz": 300
    },
    "id": "HLh48tiBjX90"
   },
   "outputs": [],
   "source": [
    "# define criterion and optimizer\n",
    "criterion = nn.L1Loss()\n",
    "optimizer = optim.Adam(model.parameters())"
   ]
  },
  {
   "cell_type": "code",
   "execution_count": null,
   "metadata": {
    "executionInfo": {
     "elapsed": 20,
     "status": "ok",
     "timestamp": 1701964818601,
     "user": {
      "displayName": "Ryan McNamara",
      "userId": "02512301642229811528"
     },
     "user_tz": 300
    },
    "id": "EgnQ53Apjb9z"
   },
   "outputs": [],
   "source": [
    "# define trainer and evaluator to train and evaluate the model\n",
    "trainer_and_evaluator = BaseTrainer(model, criterion, optimizer, train_dataloader, val_dataloader, test_dataloader, test_male_dataloader, test_female_dataloader, EPOCHS, 'vgg16_xavier_no_gender', device)"
   ]
  },
  {
   "cell_type": "code",
   "execution_count": null,
   "metadata": {
    "executionInfo": {
     "elapsed": 19,
     "status": "ok",
     "timestamp": 1701964818601,
     "user": {
      "displayName": "Ryan McNamara",
      "userId": "02512301642229811528"
     },
     "user_tz": 300
    },
    "id": "4DeIwVMFjd_N"
   },
   "outputs": [],
   "source": [
    "# train and validate the model\n",
    "train_results = trainer_and_evaluator.train_and_validate()"
   ]
  },
  {
   "cell_type": "code",
   "execution_count": null,
   "metadata": {
    "executionInfo": {
     "elapsed": 18,
     "status": "ok",
     "timestamp": 1701964818601,
     "user": {
      "displayName": "Ryan McNamara",
      "userId": "02512301642229811528"
     },
     "user_tz": 300
    },
    "id": "9SeXr_tWjhyh"
   },
   "outputs": [],
   "source": [
    "train_results"
   ]
  },
  {
   "cell_type": "code",
   "execution_count": null,
   "metadata": {
    "colab": {
     "base_uri": "https://localhost:8080/",
     "height": 17
    },
    "executionInfo": {
     "elapsed": 92035,
     "status": "ok",
     "timestamp": 1701964910619,
     "user": {
      "displayName": "Ryan McNamara",
      "userId": "02512301642229811528"
     },
     "user_tz": 300
    },
    "id": "ZmkLCFTIjinc",
    "outputId": "5e2a47c6-9b4e-438d-8fd1-72cacbaba3f5"
   },
   "outputs": [],
   "source": [
    "# evaluate the model on the test set using bootstrapped samples\n",
    "test_results = trainer_and_evaluator.bootstrap_test_set()"
   ]
  },
  {
   "cell_type": "code",
   "execution_count": null,
   "metadata": {
    "colab": {
     "base_uri": "https://localhost:8080/",
     "height": 1000
    },
    "executionInfo": {
     "elapsed": 29,
     "status": "ok",
     "timestamp": 1701964910621,
     "user": {
      "displayName": "Ryan McNamara",
      "userId": "02512301642229811528"
     },
     "user_tz": 300
    },
    "id": "t8MzwutWjld6",
    "outputId": "282f6529-4d77-4ef6-8038-f17c1cd84337"
   },
   "outputs": [],
   "source": [
    "test_results"
   ]
  },
  {
   "cell_type": "markdown",
   "metadata": {
    "id": "wj9AfQA2RluH"
   },
   "source": [
    "## ImageNet Weight Initialization With Gender Model"
   ]
  },
  {
   "cell_type": "code",
   "execution_count": null,
   "metadata": {
    "executionInfo": {
     "elapsed": 7919,
     "status": "ok",
     "timestamp": 1701964918521,
     "user": {
      "displayName": "Ryan McNamara",
      "userId": "02512301642229811528"
     },
     "user_tz": 300
    },
    "id": "DOa39ky9k_IM"
   },
   "outputs": [],
   "source": [
    "# define or initialize the model\n",
    "# model = VGG16Regression(weights = VGG16_BN_Weights.IMAGENET1K_V1, device = device, tabular_data = True, tabular_hidden = 50, output_hidden = 1000).to(device)\n",
    "with open('/content/drive/MyDrive/BINF_4008_Final_Project/Pickles/vgg16_imagenet_w_gender_model.pkl', 'rb') as f:\n",
    "  model = pickle.load(f)"
   ]
  },
  {
   "cell_type": "code",
   "execution_count": null,
   "metadata": {
    "executionInfo": {
     "elapsed": 53,
     "status": "ok",
     "timestamp": 1701964918521,
     "user": {
      "displayName": "Ryan McNamara",
      "userId": "02512301642229811528"
     },
     "user_tz": 300
    },
    "id": "k8x_aChDTZAU"
   },
   "outputs": [],
   "source": [
    "# define criterion and optimizer\n",
    "criterion = nn.L1Loss()\n",
    "optimizer = optim.Adam(model.parameters())"
   ]
  },
  {
   "cell_type": "code",
   "execution_count": null,
   "metadata": {
    "executionInfo": {
     "elapsed": 50,
     "status": "ok",
     "timestamp": 1701964918522,
     "user": {
      "displayName": "Ryan McNamara",
      "userId": "02512301642229811528"
     },
     "user_tz": 300
    },
    "id": "6B_-FqiHTcD8"
   },
   "outputs": [],
   "source": [
    "# define trainer and evaluator to train and evaluate the model\n",
    "trainer_and_evaluator = BaseTrainer(model, criterion, optimizer, train_dataloader, val_dataloader, test_dataloader, test_male_dataloader, test_female_dataloader, EPOCHS, 'vgg16_imagenet_w_gender', device)"
   ]
  },
  {
   "cell_type": "code",
   "execution_count": null,
   "metadata": {
    "executionInfo": {
     "elapsed": 47,
     "status": "ok",
     "timestamp": 1701964918522,
     "user": {
      "displayName": "Ryan McNamara",
      "userId": "02512301642229811528"
     },
     "user_tz": 300
    },
    "id": "Ya8pd5CcTmZ9"
   },
   "outputs": [],
   "source": [
    "# train and validate the model\n",
    "train_results = trainer_and_evaluator.train_and_validate()"
   ]
  },
  {
   "cell_type": "code",
   "execution_count": null,
   "metadata": {
    "executionInfo": {
     "elapsed": 45,
     "status": "ok",
     "timestamp": 1701964918522,
     "user": {
      "displayName": "Ryan McNamara",
      "userId": "02512301642229811528"
     },
     "user_tz": 300
    },
    "id": "aB2psQxrTqL7"
   },
   "outputs": [],
   "source": [
    "train_results"
   ]
  },
  {
   "cell_type": "code",
   "execution_count": null,
   "metadata": {
    "colab": {
     "base_uri": "https://localhost:8080/",
     "height": 17
    },
    "executionInfo": {
     "elapsed": 93561,
     "status": "ok",
     "timestamp": 1701965012040,
     "user": {
      "displayName": "Ryan McNamara",
      "userId": "02512301642229811528"
     },
     "user_tz": 300
    },
    "id": "nSGJIl3WTrme",
    "outputId": "512f0160-3633-4d5e-939a-414462bb9a4e"
   },
   "outputs": [],
   "source": [
    "# evaluate the model on the test set using bootstrapped samples\n",
    "test_results = trainer_and_evaluator.bootstrap_test_set()"
   ]
  },
  {
   "cell_type": "code",
   "execution_count": null,
   "metadata": {
    "colab": {
     "base_uri": "https://localhost:8080/",
     "height": 1000
    },
    "executionInfo": {
     "elapsed": 22,
     "status": "ok",
     "timestamp": 1701965012041,
     "user": {
      "displayName": "Ryan McNamara",
      "userId": "02512301642229811528"
     },
     "user_tz": 300
    },
    "id": "M2UxAx1iTuaK",
    "outputId": "f2eee86c-b96f-45f2-a343-ff172f303255"
   },
   "outputs": [],
   "source": [
    "test_results"
   ]
  },
  {
   "cell_type": "markdown",
   "metadata": {
    "id": "sk6r54gCfwbZ"
   },
   "source": [
    "## Xavier Weight Initialization With Gender Model"
   ]
  },
  {
   "cell_type": "code",
   "execution_count": null,
   "metadata": {
    "executionInfo": {
     "elapsed": 8413,
     "status": "ok",
     "timestamp": 1701965020439,
     "user": {
      "displayName": "Ryan McNamara",
      "userId": "02512301642229811528"
     },
     "user_tz": 300
    },
    "id": "AYyrXYsCcZCJ"
   },
   "outputs": [],
   "source": [
    "# initialize or load the model\n",
    "# model = VGG16Regression(weights = 'random', device = device, tabular_data = True, tabular_hidden = 50, output_hidden = 1000).to(device)\n",
    "with open( '/content/drive/MyDrive/BINF_4008_Final_Project/Pickles/vgg16_xavier_w_gender_model.pkl', 'rb') as f:\n",
    "  model = pickle.load(f)"
   ]
  },
  {
   "cell_type": "code",
   "execution_count": null,
   "metadata": {
    "executionInfo": {
     "elapsed": 30,
     "status": "ok",
     "timestamp": 1701965020439,
     "user": {
      "displayName": "Ryan McNamara",
      "userId": "02512301642229811528"
     },
     "user_tz": 300
    },
    "id": "DVsuESZAgFqp"
   },
   "outputs": [],
   "source": [
    "# define criterion and optimizer\n",
    "criterion = nn.L1Loss()\n",
    "optimizer = optim.Adam(model.parameters())"
   ]
  },
  {
   "cell_type": "code",
   "execution_count": null,
   "metadata": {
    "executionInfo": {
     "elapsed": 26,
     "status": "ok",
     "timestamp": 1701965020439,
     "user": {
      "displayName": "Ryan McNamara",
      "userId": "02512301642229811528"
     },
     "user_tz": 300
    },
    "id": "q_ZYcKcdgI5p"
   },
   "outputs": [],
   "source": [
    "# define trainer and evaluator to train and evaluate the model\n",
    "trainer_and_evaluator = BaseTrainer(model, criterion, optimizer, train_dataloader, val_dataloader, test_dataloader, test_male_dataloader, test_female_dataloader, EPOCHS, 'vgg16_xavier_w_gender', device = device)"
   ]
  },
  {
   "cell_type": "code",
   "execution_count": null,
   "metadata": {
    "executionInfo": {
     "elapsed": 819,
     "status": "ok",
     "timestamp": 1701965021236,
     "user": {
      "displayName": "Ryan McNamara",
      "userId": "02512301642229811528"
     },
     "user_tz": 300
    },
    "id": "Gmejn3iYgRWG"
   },
   "outputs": [],
   "source": [
    "# train and validate the model\n",
    "train_results = trainer_and_evaluator.train_and_validate()"
   ]
  },
  {
   "cell_type": "code",
   "execution_count": null,
   "metadata": {
    "executionInfo": {
     "elapsed": 10,
     "status": "ok",
     "timestamp": 1701965021236,
     "user": {
      "displayName": "Ryan McNamara",
      "userId": "02512301642229811528"
     },
     "user_tz": 300
    },
    "id": "FTYBmWELgS1S"
   },
   "outputs": [],
   "source": [
    "train_results"
   ]
  },
  {
   "cell_type": "code",
   "execution_count": null,
   "metadata": {
    "colab": {
     "base_uri": "https://localhost:8080/",
     "height": 17
    },
    "executionInfo": {
     "elapsed": 97265,
     "status": "ok",
     "timestamp": 1701965118494,
     "user": {
      "displayName": "Ryan McNamara",
      "userId": "02512301642229811528"
     },
     "user_tz": 300
    },
    "id": "cX92-w3AgTz5",
    "outputId": "535297c3-85e3-49ee-c764-0ebd509e4e6e"
   },
   "outputs": [],
   "source": [
    "# evaluate the model on the test set using bootstrapped samples\n",
    "test_results = trainer_and_evaluator.bootstrap_test_set()"
   ]
  },
  {
   "cell_type": "code",
   "execution_count": null,
   "metadata": {
    "colab": {
     "base_uri": "https://localhost:8080/",
     "height": 1000
    },
    "executionInfo": {
     "elapsed": 37,
     "status": "ok",
     "timestamp": 1701965118495,
     "user": {
      "displayName": "Ryan McNamara",
      "userId": "02512301642229811528"
     },
     "user_tz": 300
    },
    "id": "Vz6VGMmogbGf",
    "outputId": "6324b918-68e9-487a-d59f-3d5b620e8434",
    "scrolled": true
   },
   "outputs": [],
   "source": [
    "test_results"
   ]
  },
  {
   "cell_type": "markdown",
   "metadata": {
    "id": "rnYmE0_sjCok"
   },
   "source": [
    "## Xavier Weight Initialization No Gender Model (10 Epochs)"
   ]
  },
  {
   "cell_type": "code",
   "execution_count": null,
   "metadata": {
    "executionInfo": {
     "elapsed": 5218,
     "status": "ok",
     "timestamp": 1701965124534,
     "user": {
      "displayName": "Ryan McNamara",
      "userId": "02512301642229811528"
     },
     "user_tz": 300
    },
    "id": "LoL8eznO_S8F"
   },
   "outputs": [],
   "source": [
    "# define or load the model\n",
    "# model = VGG16Regression(weights = 'random', device = device).to(device)\n",
    "with open( '/content/drive/MyDrive/BINF_4008_Final_Project/Pickles/vgg16_xavier_no_gender_10_model.pkl', 'rb') as f:\n",
    "  model = pickle.load(f)"
   ]
  },
  {
   "cell_type": "code",
   "execution_count": null,
   "metadata": {
    "executionInfo": {
     "elapsed": 24,
     "status": "ok",
     "timestamp": 1701965124535,
     "user": {
      "displayName": "Ryan McNamara",
      "userId": "02512301642229811528"
     },
     "user_tz": 300
    },
    "id": "WuctK9_mjXtA"
   },
   "outputs": [],
   "source": [
    "# define criterion and optimizer\n",
    "criterion = nn.L1Loss()\n",
    "optimizer = optim.Adam(model.parameters())"
   ]
  },
  {
   "cell_type": "code",
   "execution_count": null,
   "metadata": {
    "executionInfo": {
     "elapsed": 233,
     "status": "ok",
     "timestamp": 1701965124747,
     "user": {
      "displayName": "Ryan McNamara",
      "userId": "02512301642229811528"
     },
     "user_tz": 300
    },
    "id": "8whoN-HLjZj8"
   },
   "outputs": [],
   "source": [
    "# define trainer and evaluator to train and evaluate the model\n",
    "trainer_and_evaluator = BaseTrainer(model, criterion, optimizer, train_dataloader, val_dataloader, test_dataloader, test_male_dataloader, test_female_dataloader, 10, 'vgg16_xavier_no_gender_10', device = device)"
   ]
  },
  {
   "cell_type": "code",
   "execution_count": null,
   "metadata": {
    "executionInfo": {
     "elapsed": 19,
     "status": "ok",
     "timestamp": 1701965124748,
     "user": {
      "displayName": "Ryan McNamara",
      "userId": "02512301642229811528"
     },
     "user_tz": 300
    },
    "id": "dCBwC1mxjjDQ"
   },
   "outputs": [],
   "source": [
    "# train and validate the model\n",
    "train_results = trainer_and_evaluator.train_and_validate()"
   ]
  },
  {
   "cell_type": "code",
   "execution_count": null,
   "metadata": {
    "executionInfo": {
     "elapsed": 18,
     "status": "ok",
     "timestamp": 1701965124748,
     "user": {
      "displayName": "Ryan McNamara",
      "userId": "02512301642229811528"
     },
     "user_tz": 300
    },
    "id": "99intqAXjm-g"
   },
   "outputs": [],
   "source": [
    "train_results"
   ]
  },
  {
   "cell_type": "code",
   "execution_count": null,
   "metadata": {
    "colab": {
     "base_uri": "https://localhost:8080/",
     "height": 17
    },
    "executionInfo": {
     "elapsed": 95234,
     "status": "ok",
     "timestamp": 1701965219969,
     "user": {
      "displayName": "Ryan McNamara",
      "userId": "02512301642229811528"
     },
     "user_tz": 300
    },
    "id": "Z6DHilORjn7C",
    "outputId": "903df6a7-3cf0-4f76-86ca-ee41059f1417"
   },
   "outputs": [],
   "source": [
    "# evaluate the model on the test set using bootstrapped samples\n",
    "test_results = trainer_and_evaluator.bootstrap_test_set()"
   ]
  },
  {
   "cell_type": "code",
   "execution_count": null,
   "metadata": {
    "colab": {
     "base_uri": "https://localhost:8080/",
     "height": 1000
    },
    "executionInfo": {
     "elapsed": 36,
     "status": "ok",
     "timestamp": 1701965219969,
     "user": {
      "displayName": "Ryan McNamara",
      "userId": "02512301642229811528"
     },
     "user_tz": 300
    },
    "id": "DXzzS7ugjpWg",
    "outputId": "f4c257d1-7bbc-4e28-a250-de2dbba255ee"
   },
   "outputs": [],
   "source": [
    "test_results"
   ]
  },
  {
   "cell_type": "markdown",
   "metadata": {
    "id": "9GO-UBr3jqq8"
   },
   "source": [
    "## Xavier Weight Initialization With Gender Model (10 Epochs)"
   ]
  },
  {
   "cell_type": "code",
   "execution_count": null,
   "metadata": {
    "executionInfo": {
     "elapsed": 7505,
     "status": "ok",
     "timestamp": 1701965227444,
     "user": {
      "displayName": "Ryan McNamara",
      "userId": "02512301642229811528"
     },
     "user_tz": 300
    },
    "id": "WtLQIwaTjwSD"
   },
   "outputs": [],
   "source": [
    "# initialize or load the model\n",
    "# model = VGG16Regression(weights = 'random', device = device, tabular_data = True, tabular_hidden = 50, output_hidden = 1000).to(device)\n",
    "with open( '/content/drive/MyDrive/BINF_4008_Final_Project/Pickles/vgg16_xavier_w_gender_10_model.pkl', 'rb') as f:\n",
    "  model = pickle.load(f)"
   ]
  },
  {
   "cell_type": "code",
   "execution_count": null,
   "metadata": {
    "executionInfo": {
     "elapsed": 381,
     "status": "ok",
     "timestamp": 1701965227817,
     "user": {
      "displayName": "Ryan McNamara",
      "userId": "02512301642229811528"
     },
     "user_tz": 300
    },
    "id": "Cc2AC6NzjyVK"
   },
   "outputs": [],
   "source": [
    "# define criterion and optimizer\n",
    "criterion = nn.L1Loss()\n",
    "optimizer = optim.Adam(model.parameters())"
   ]
  },
  {
   "cell_type": "code",
   "execution_count": null,
   "metadata": {
    "executionInfo": {
     "elapsed": 241,
     "status": "ok",
     "timestamp": 1701965228052,
     "user": {
      "displayName": "Ryan McNamara",
      "userId": "02512301642229811528"
     },
     "user_tz": 300
    },
    "id": "wNtvcQ2jjzWZ"
   },
   "outputs": [],
   "source": [
    "# define trainer and evaluator to train and evaluate the model\n",
    "trainer_and_evaluator = BaseTrainer(model, criterion, optimizer, train_dataloader, val_dataloader, test_dataloader, test_male_dataloader, test_female_dataloader, 10, 'vgg16_xavier_w_gender_10', device = device)"
   ]
  },
  {
   "cell_type": "code",
   "execution_count": null,
   "metadata": {
    "executionInfo": {
     "elapsed": 33,
     "status": "ok",
     "timestamp": 1701965228052,
     "user": {
      "displayName": "Ryan McNamara",
      "userId": "02512301642229811528"
     },
     "user_tz": 300
    },
    "id": "IDzDiow8j3ax"
   },
   "outputs": [],
   "source": [
    "# train and validate the model\n",
    "train_results = trainer_and_evaluator.train_and_validate()"
   ]
  },
  {
   "cell_type": "code",
   "execution_count": null,
   "metadata": {
    "executionInfo": {
     "elapsed": 31,
     "status": "ok",
     "timestamp": 1701965228052,
     "user": {
      "displayName": "Ryan McNamara",
      "userId": "02512301642229811528"
     },
     "user_tz": 300
    },
    "id": "m-iKqoXNj5Bb"
   },
   "outputs": [],
   "source": [
    "train_results"
   ]
  },
  {
   "cell_type": "code",
   "execution_count": null,
   "metadata": {
    "colab": {
     "base_uri": "https://localhost:8080/",
     "height": 17
    },
    "executionInfo": {
     "elapsed": 93685,
     "status": "ok",
     "timestamp": 1701965322533,
     "user": {
      "displayName": "Ryan McNamara",
      "userId": "02512301642229811528"
     },
     "user_tz": 300
    },
    "id": "6lpKR-3Vj6AJ",
    "outputId": "99489199-872b-4ed0-f4bb-f03554f6d417"
   },
   "outputs": [],
   "source": [
    "# evaluate the model on the test set using bootstrapped samples\n",
    "test_results = trainer_and_evaluator.bootstrap_test_set()"
   ]
  },
  {
   "cell_type": "code",
   "execution_count": null,
   "metadata": {
    "colab": {
     "base_uri": "https://localhost:8080/",
     "height": 1000
    },
    "executionInfo": {
     "elapsed": 55,
     "status": "ok",
     "timestamp": 1701965322534,
     "user": {
      "displayName": "Ryan McNamara",
      "userId": "02512301642229811528"
     },
     "user_tz": 300
    },
    "id": "qgkdC_Xvj8Ts",
    "outputId": "bd5bce9f-239d-4a54-979f-4e1c8dcad620"
   },
   "outputs": [],
   "source": [
    "test_results"
   ]
  },
  {
   "cell_type": "code",
   "execution_count": null,
   "metadata": {
    "executionInfo": {
     "elapsed": 48,
     "status": "ok",
     "timestamp": 1701965322534,
     "user": {
      "displayName": "Ryan McNamara",
      "userId": "02512301642229811528"
     },
     "user_tz": 300
    },
    "id": "5ihYlNu6VhVP"
   },
   "outputs": [],
   "source": []
  }
 ],
 "metadata": {
  "accelerator": "GPU",
  "colab": {
   "gpuType": "T4",
   "provenance": []
  },
  "kernelspec": {
   "display_name": "Python 3 (ipykernel)",
   "language": "python",
   "name": "python3"
  },
  "language_info": {
   "codemirror_mode": {
    "name": "ipython",
    "version": 3
   },
   "file_extension": ".py",
   "mimetype": "text/x-python",
   "name": "python",
   "nbconvert_exporter": "python",
   "pygments_lexer": "ipython3",
   "version": "3.10.10"
  }
 },
 "nbformat": 4,
 "nbformat_minor": 1
}
